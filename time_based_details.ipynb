{
 "cells": [
  {
   "cell_type": "code",
   "execution_count": 181,
   "metadata": {},
   "outputs": [
    {
     "name": "stdout",
     "output_type": "stream",
     "text": [
      "1441\n"
     ]
    }
   ],
   "source": [
    "import numpy as np\n",
    "import pandas as pd\n",
    "import datetime \n",
    "import random\n",
    "# func to get time\n",
    "def calc_period():\n",
    "  \n",
    "    # datetime(year, month, day, hour, minute, second) \n",
    "    a = datetime.datetime(2020, 10, 12, 0, 0, 0) \n",
    "    b = datetime.datetime(2020, 10, 13, 0, 0, 0) \n",
    "\n",
    "    # returns a timedelta object \n",
    "    c = b-a  \n",
    "    #print('Difference: ', c) \n",
    "\n",
    "    minutes = c.total_seconds() / 60\n",
    "    return int(minutes+1)\n",
    "    #print('Total difference in minutes: ', minutes) \n",
    "\n",
    "    # returns the difference of the time of the day \n",
    "    minutes = c.seconds / 60\n",
    "    #print('Difference in minutes: ', minutes)\n",
    "print(calc_period())"
   ]
  },
  {
   "cell_type": "code",
   "execution_count": 196,
   "metadata": {},
   "outputs": [],
   "source": [
    "# Generate temp in celcius\n",
    "def cel():\n",
    "    cel = np.random.randint(20,41,qty)\n",
    "    dfcel=pd.DataFrame(data=cel)\n",
    "    return dfcel\n",
    "#print(type(cel()))\n",
    "#print(cel())\n",
    "#type(cel())"
   ]
  },
  {
   "cell_type": "code",
   "execution_count": 198,
   "metadata": {},
   "outputs": [],
   "source": [
    "#Generate temperature in F from celcius\n",
    "def far():\n",
    "    far = (cel() * 1.8)+32\n",
    "    dffar=pd.DataFrame(data=far)\n",
    "    return dffar\n",
    "#print(cel())\n",
    "#print(far())\n",
    "#type(far())"
   ]
  },
  {
   "cell_type": "code",
   "execution_count": 200,
   "metadata": {},
   "outputs": [],
   "source": [
    "#Generate random vibration\n",
    "def vibr():\n",
    "    vib=np.random.randint(20,50,qty)\n",
    "    dfvib=pd.DataFrame(data=vib)\n",
    "    return dfvib\n",
    "#print(vibr())\n",
    "#type(vibr())"
   ]
  },
  {
   "cell_type": "code",
   "execution_count": 202,
   "metadata": {},
   "outputs": [
    {
     "name": "stdout",
     "output_type": "stream",
     "text": [
      "<class 'pandas.core.frame.DataFrame'>\n",
      "1441\n"
     ]
    }
   ],
   "source": [
    "\n",
    "# Create date and time with dataframe \n",
    "\n",
    "qty = calc_period()\n",
    "rng = pd.DataFrame() \n",
    "rng['date'] = pd.date_range(startdate,periods = qty+1,freq ='min') \n",
    "print(type(rng))\n",
    "print(qty)\n",
    "  \n",
    "# Create features for year, month, day, hour, and minute \n",
    "#rng['year'] = rng['date'].dt.year \n",
    "#rng['month'] = rng['date'].dt.month \n",
    "#rng['day'] = rng['date'].dt.day \n",
    "rng['Hour'] = rng['date'].dt.hour \n",
    "rng['Minute'] = rng['date'].dt.minute\n",
    "rng['Temp(C)']=cel()\n",
    "rng['Temp(F)']=far()\n",
    "rng['Vibrations']=vibr()\n",
    "rng.head()\n",
    "# Print the dates divided into features \n",
    "rng.to_csv('kdata.csv')"
   ]
  }
 ],
 "metadata": {
  "kernelspec": {
   "display_name": "Python 3",
   "language": "python",
   "name": "python3"
  },
  "language_info": {
   "codemirror_mode": {
    "name": "ipython",
    "version": 3
   },
   "file_extension": ".py",
   "mimetype": "text/x-python",
   "name": "python",
   "nbconvert_exporter": "python",
   "pygments_lexer": "ipython3",
   "version": "3.8.3"
  }
 },
 "nbformat": 4,
 "nbformat_minor": 4
}
